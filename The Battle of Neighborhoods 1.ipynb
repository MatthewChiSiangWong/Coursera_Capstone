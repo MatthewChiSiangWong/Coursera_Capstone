{
 "cells": [
  {
   "cell_type": "markdown",
   "metadata": {},
   "source": [
    "# LIVING IN LONDON: For the everyday person\n",
    "\n",
    "## Capstone Project - The Battle of Neighbor (Week 1)\n",
    "\n",
    "### For the IBM Applied Data Science Capstone"
   ]
  },
  {
   "cell_type": "markdown",
   "metadata": {
    "collapsed": true
   },
   "source": [
    "__Capstone Requirements:__ Clearly define a problem or an idea of your choice, where you would need to leverage the Foursquare location data to solve or execute. Remember that data science problems always target an audience and are meant to help a group of stakeholders solve a problem, so make sure that you explicitly describe your audience and why they would care about your problem.\n",
    "\n",
    "Describe the data that you will be using to solve the problem or execute your idea. Remember that you will need to use the Foursquare location data to solve the problem or execute your idea. You can absolutely use other datasets in combination with the Foursquare location data. So make sure that you provide adequate explanation and discussion, with examples, of the data that you will be using, even if it is only Foursquare location data."
   ]
  },
  {
   "cell_type": "markdown",
   "metadata": {},
   "source": [
    "## 1 Introduction\n",
    "\n",
    "Living in a city is a dream for many. We grow up watching movies and series based on different cities that eventually form our perception of a \"dream life\" in a \"dream city\". For many, we start thinking \"when I grow up, I want to live in (insert city name) and become an (insert dream job)\" and, this is great. We start working towards our dreams, to live in London or New York or Melbourne or any other city. However, once we get the opportunity to live in this city, our main _question_ becomes: __WHERE?__\n",
    "\n",
    "Let us take London as an example and consider the three following questions/factors:\n",
    "\n",
    "1. Which part of London do we stay in? <br>\n",
    "Do we stay in Central london? What if it's too expensive, wherelse is there? How about Camden?\n",
    "2. What do I need on a regular basis? <br>\n",
    "Is there a supermarket or train station nearby? __These will be our primary focus for this project__\n",
    "3. What attractions are there? <br>\n",
    "Is there a cafe in the area? Is the area lively at night?\n",
    "\n",
    "Without even considering the price variations across the city, we already have this problem. We can't really know what is around each location (unless we _manually_ look through Google Maps or Tripadvisor) and apart from asking other people or reading reviews online, not everyone knows a quick solution to this. Understanding what each area has or is known for can easily help the \"everyday person\" make a deicsion.\n",
    "\n",
    "This introduction explains the \"why\" and the following parts will explain the \"who\", \"what\" and \"how\"."
   ]
  },
  {
   "cell_type": "markdown",
   "metadata": {},
   "source": [
    "## 2 Target Audience\n",
    "Our first assumption in this project is that people choose locations to stay in based on the presence of a supermarket or train station nearby. The justifications:\n",
    "\n",
    "Location      | Justification \n",
    "--------------|---\n",
    "Supermarket   | Applicable to any type of demographic (i.e. families, working professionals, students, etc.)\n",
    "Train Station | Most people commute around the city through trains, it's could be the London Underground, Overground, DLR, etc.\n",
    "\n",
    "The obvios rebuttal question would be \"how about schools or other amenities?\" and that's a valid question. However, to make this applicable to most people, other criteria can't be included. Additionally, some people might not want to stay near restaurants or areas that are known for its night life.\n",
    "\n",
    "Source of inspiration: https://www.investopedia.com/financial-edge/0410/the-5-factors-of-a-good-location.aspx"
   ]
  },
  {
   "cell_type": "markdown",
   "metadata": {},
   "source": [
    "## 3 Objective\n",
    "This capstone project aims to analyse the different locations in London, United Kingdom and focus on __train stations__ and __supermarkets__. By segmenting and clustering the locations, we can develop a solution to the question:\n",
    "> If I move to London, where should I start looking at?"
   ]
  },
  {
   "cell_type": "markdown",
   "metadata": {},
   "source": [
    "## 4 Data\n",
    "To solve the probelm, we will be using:\n",
    "\n",
    "- List of areas in London: defines the scope of the project and the areas to consider.\n",
    "- Latitude and longitude coordinates of these areas: needed to plot the map and get the venue data.\n",
    "- Venue data: will be used to perform clustering.\n",
    "\n",
    "#### Source of data and method of extraction:\n",
    "This wikipedia page (https://en.wikipedia.org/wiki/List_of_areas_of_London) contains the list of locations in London and the borough that it is located within. London has a total of 32 boroughs with each containing several locations. The table within the wikipedia page provides the:\n",
    "- Location\n",
    "- Respective London Borough\n",
    "- Post town\n",
    "- Postcode District\n",
    "- Dial Code\n",
    "- OS grid ref\n",
    "\n",
    "With the use of several libraries and packages, we will scrape the data from the wikipedia page and get the coordinates of each location. Subsequently, we will use the Foursquare API to get the venue data for those neighborhoods. As we are interested in train stations and supermarkets, our clustering of the locations will be based on a dataset that contains/combines both categories."
   ]
  },
  {
   "cell_type": "code",
   "execution_count": null,
   "metadata": {},
   "outputs": [],
   "source": []
  }
 ],
 "metadata": {
  "kernelspec": {
   "display_name": "Python 3.6",
   "language": "python",
   "name": "python3"
  },
  "language_info": {
   "codemirror_mode": {
    "name": "ipython",
    "version": 3
   },
   "file_extension": ".py",
   "mimetype": "text/x-python",
   "name": "python",
   "nbconvert_exporter": "python",
   "pygments_lexer": "ipython3",
   "version": "3.6.9"
  }
 },
 "nbformat": 4,
 "nbformat_minor": 1
}
